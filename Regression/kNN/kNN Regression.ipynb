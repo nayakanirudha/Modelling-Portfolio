{
 "cells": [
  {
   "cell_type": "markdown",
   "metadata": {},
   "source": [
    "### Problem Statement"
   ]
  },
  {
   "cell_type": "markdown",
   "metadata": {},
   "source": [
    "Build a K-NN  Regression Algorithm for cars.csv dataset \n",
    "\n",
    "Predictors : Cylinders , Weight and Horsepower\n",
    "\n",
    "Target : MPG\n"
   ]
  },
  {
   "cell_type": "markdown",
   "metadata": {},
   "source": [
    "#### Import Libraries"
   ]
  },
  {
   "cell_type": "code",
   "execution_count": 156,
   "metadata": {
    "ExecuteTime": {
     "end_time": "2020-10-11T15:09:34.356613Z",
     "start_time": "2020-10-11T15:09:34.340621Z"
    }
   },
   "outputs": [],
   "source": [
    "import os\n",
    "import numpy as np\n",
    "import pandas as pd\n",
    "import matplotlib.pyplot as plt\n",
    "from sklearn.metrics import mean_squared_error as mse\n",
    "\n",
    "import warnings\n",
    "warnings.simplefilter(\"ignore\")"
   ]
  },
  {
   "cell_type": "markdown",
   "metadata": {},
   "source": [
    "#### Import Dataset"
   ]
  },
  {
   "cell_type": "code",
   "execution_count": 157,
   "metadata": {
    "ExecuteTime": {
     "end_time": "2020-10-11T15:09:34.732365Z",
     "start_time": "2020-10-11T15:09:34.700384Z"
    }
   },
   "outputs": [
    {
     "name": "stdout",
     "output_type": "stream",
     "text": [
      "<class 'pandas.core.frame.DataFrame'>\n",
      "RangeIndex: 406 entries, 0 to 405\n",
      "Data columns (total 4 columns):\n",
      "Cylinders     406 non-null int64\n",
      "Weight        406 non-null int64\n",
      "Horsepower    406 non-null int64\n",
      "MPG           406 non-null float64\n",
      "dtypes: float64(1), int64(3)\n",
      "memory usage: 12.8 KB\n"
     ]
    }
   ],
   "source": [
    "os.chdir(r'C:/Anirudha/Projects/Praxis/IML/')\n",
    "dataset = pd.read_csv(\"cars.csv\")\n",
    "x_cols = [\"Cylinders\",\"Weight\",\"Horsepower\"]\n",
    "y_cols = [\"MPG\"]\n",
    "columns = x_cols + y_cols\n",
    "dataset = dataset[columns]\n",
    "dataset.info()"
   ]
  },
  {
   "cell_type": "markdown",
   "metadata": {},
   "source": [
    "### kNN Regression Algorithm ( Self-Built )"
   ]
  },
  {
   "cell_type": "markdown",
   "metadata": {},
   "source": [
    "#### Drop Missing/Zero Values"
   ]
  },
  {
   "cell_type": "code",
   "execution_count": 158,
   "metadata": {
    "ExecuteTime": {
     "end_time": "2020-10-11T15:09:35.148084Z",
     "start_time": "2020-10-11T15:09:35.132093Z"
    }
   },
   "outputs": [
    {
     "data": {
      "text/plain": [
       "Cylinders     0\n",
       "Weight        0\n",
       "Horsepower    0\n",
       "MPG           0\n",
       "dtype: int64"
      ]
     },
     "execution_count": 158,
     "metadata": {},
     "output_type": "execute_result"
    }
   ],
   "source": [
    "data1 = dataset.copy()\n",
    "data1.isnull().sum()"
   ]
  },
  {
   "cell_type": "code",
   "execution_count": 159,
   "metadata": {
    "ExecuteTime": {
     "end_time": "2020-10-11T15:09:35.308015Z",
     "start_time": "2020-10-11T15:09:35.276000Z"
    }
   },
   "outputs": [
    {
     "data": {
      "text/html": [
       "<div>\n",
       "<style scoped>\n",
       "    .dataframe tbody tr th:only-of-type {\n",
       "        vertical-align: middle;\n",
       "    }\n",
       "\n",
       "    .dataframe tbody tr th {\n",
       "        vertical-align: top;\n",
       "    }\n",
       "\n",
       "    .dataframe thead th {\n",
       "        text-align: right;\n",
       "    }\n",
       "</style>\n",
       "<table border=\"1\" class=\"dataframe\">\n",
       "  <thead>\n",
       "    <tr style=\"text-align: right;\">\n",
       "      <th></th>\n",
       "      <th>Cylinders</th>\n",
       "      <th>Weight</th>\n",
       "      <th>Horsepower</th>\n",
       "      <th>MPG</th>\n",
       "    </tr>\n",
       "  </thead>\n",
       "  <tbody>\n",
       "    <tr>\n",
       "      <td>38</td>\n",
       "      <td>4</td>\n",
       "      <td>2046</td>\n",
       "      <td>0</td>\n",
       "      <td>25.0</td>\n",
       "    </tr>\n",
       "    <tr>\n",
       "      <td>133</td>\n",
       "      <td>6</td>\n",
       "      <td>2875</td>\n",
       "      <td>0</td>\n",
       "      <td>21.0</td>\n",
       "    </tr>\n",
       "    <tr>\n",
       "      <td>337</td>\n",
       "      <td>4</td>\n",
       "      <td>1835</td>\n",
       "      <td>0</td>\n",
       "      <td>40.9</td>\n",
       "    </tr>\n",
       "    <tr>\n",
       "      <td>343</td>\n",
       "      <td>4</td>\n",
       "      <td>2905</td>\n",
       "      <td>0</td>\n",
       "      <td>23.6</td>\n",
       "    </tr>\n",
       "    <tr>\n",
       "      <td>361</td>\n",
       "      <td>4</td>\n",
       "      <td>2320</td>\n",
       "      <td>0</td>\n",
       "      <td>34.5</td>\n",
       "    </tr>\n",
       "    <tr>\n",
       "      <td>382</td>\n",
       "      <td>4</td>\n",
       "      <td>3035</td>\n",
       "      <td>0</td>\n",
       "      <td>23.0</td>\n",
       "    </tr>\n",
       "    <tr>\n",
       "      <td>10</td>\n",
       "      <td>4</td>\n",
       "      <td>3090</td>\n",
       "      <td>115</td>\n",
       "      <td>0.0</td>\n",
       "    </tr>\n",
       "    <tr>\n",
       "      <td>11</td>\n",
       "      <td>8</td>\n",
       "      <td>4142</td>\n",
       "      <td>165</td>\n",
       "      <td>0.0</td>\n",
       "    </tr>\n",
       "    <tr>\n",
       "      <td>12</td>\n",
       "      <td>8</td>\n",
       "      <td>4034</td>\n",
       "      <td>153</td>\n",
       "      <td>0.0</td>\n",
       "    </tr>\n",
       "    <tr>\n",
       "      <td>13</td>\n",
       "      <td>8</td>\n",
       "      <td>4166</td>\n",
       "      <td>175</td>\n",
       "      <td>0.0</td>\n",
       "    </tr>\n",
       "    <tr>\n",
       "      <td>14</td>\n",
       "      <td>8</td>\n",
       "      <td>3850</td>\n",
       "      <td>175</td>\n",
       "      <td>0.0</td>\n",
       "    </tr>\n",
       "    <tr>\n",
       "      <td>17</td>\n",
       "      <td>8</td>\n",
       "      <td>3353</td>\n",
       "      <td>140</td>\n",
       "      <td>0.0</td>\n",
       "    </tr>\n",
       "    <tr>\n",
       "      <td>39</td>\n",
       "      <td>4</td>\n",
       "      <td>1978</td>\n",
       "      <td>48</td>\n",
       "      <td>0.0</td>\n",
       "    </tr>\n",
       "    <tr>\n",
       "      <td>367</td>\n",
       "      <td>4</td>\n",
       "      <td>2800</td>\n",
       "      <td>110</td>\n",
       "      <td>0.0</td>\n",
       "    </tr>\n",
       "  </tbody>\n",
       "</table>\n",
       "</div>"
      ],
      "text/plain": [
       "     Cylinders  Weight  Horsepower   MPG\n",
       "38           4    2046           0  25.0\n",
       "133          6    2875           0  21.0\n",
       "337          4    1835           0  40.9\n",
       "343          4    2905           0  23.6\n",
       "361          4    2320           0  34.5\n",
       "382          4    3035           0  23.0\n",
       "10           4    3090         115   0.0\n",
       "11           8    4142         165   0.0\n",
       "12           8    4034         153   0.0\n",
       "13           8    4166         175   0.0\n",
       "14           8    3850         175   0.0\n",
       "17           8    3353         140   0.0\n",
       "39           4    1978          48   0.0\n",
       "367          4    2800         110   0.0"
      ]
     },
     "execution_count": 159,
     "metadata": {},
     "output_type": "execute_result"
    }
   ],
   "source": [
    "zero_indices = []\n",
    "for i in range(len(columns)):\n",
    "    zero_indices.extend(data1.index[data1[columns[i]] == 0].to_list())    \n",
    "data1.iloc[zero_indices,:]"
   ]
  },
  {
   "cell_type": "code",
   "execution_count": 160,
   "metadata": {
    "ExecuteTime": {
     "end_time": "2020-10-11T15:09:35.611811Z",
     "start_time": "2020-10-11T15:09:35.595828Z"
    }
   },
   "outputs": [
    {
     "name": "stdout",
     "output_type": "stream",
     "text": [
      "Dropped 14 rows as it contained Null/Zero Values\n",
      "Length of Dataset : 392\n"
     ]
    }
   ],
   "source": [
    "data1.drop(zero_indices,inplace=True)\n",
    "print(\"Dropped %d rows as it contained Null/Zero Values\"% len(zero_indices))\n",
    "print(\"Length of Dataset :\",len(data1))"
   ]
  },
  {
   "cell_type": "markdown",
   "metadata": {},
   "source": [
    "#### Standardization of all X columns"
   ]
  },
  {
   "cell_type": "code",
   "execution_count": 181,
   "metadata": {
    "ExecuteTime": {
     "end_time": "2020-10-11T15:33:09.043408Z",
     "start_time": "2020-10-11T15:33:09.011423Z"
    }
   },
   "outputs": [
    {
     "data": {
      "text/html": [
       "<div>\n",
       "<style scoped>\n",
       "    .dataframe tbody tr th:only-of-type {\n",
       "        vertical-align: middle;\n",
       "    }\n",
       "\n",
       "    .dataframe tbody tr th {\n",
       "        vertical-align: top;\n",
       "    }\n",
       "\n",
       "    .dataframe thead th {\n",
       "        text-align: right;\n",
       "    }\n",
       "</style>\n",
       "<table border=\"1\" class=\"dataframe\">\n",
       "  <thead>\n",
       "    <tr style=\"text-align: right;\">\n",
       "      <th></th>\n",
       "      <th>Cylinders</th>\n",
       "      <th>Weight</th>\n",
       "      <th>Horsepower</th>\n",
       "      <th>MPG</th>\n",
       "    </tr>\n",
       "  </thead>\n",
       "  <tbody>\n",
       "    <tr>\n",
       "      <td>0</td>\n",
       "      <td>1.482053</td>\n",
       "      <td>0.619748</td>\n",
       "      <td>0.663285</td>\n",
       "      <td>18.0</td>\n",
       "    </tr>\n",
       "    <tr>\n",
       "      <td>1</td>\n",
       "      <td>1.482053</td>\n",
       "      <td>0.842258</td>\n",
       "      <td>1.572585</td>\n",
       "      <td>15.0</td>\n",
       "    </tr>\n",
       "    <tr>\n",
       "      <td>2</td>\n",
       "      <td>1.482053</td>\n",
       "      <td>0.539692</td>\n",
       "      <td>1.182885</td>\n",
       "      <td>18.0</td>\n",
       "    </tr>\n",
       "    <tr>\n",
       "      <td>3</td>\n",
       "      <td>1.482053</td>\n",
       "      <td>0.536160</td>\n",
       "      <td>1.182885</td>\n",
       "      <td>16.0</td>\n",
       "    </tr>\n",
       "    <tr>\n",
       "      <td>4</td>\n",
       "      <td>1.482053</td>\n",
       "      <td>0.554997</td>\n",
       "      <td>0.923085</td>\n",
       "      <td>17.0</td>\n",
       "    </tr>\n",
       "  </tbody>\n",
       "</table>\n",
       "</div>"
      ],
      "text/plain": [
       "   Cylinders    Weight  Horsepower   MPG\n",
       "0   1.482053  0.619748    0.663285  18.0\n",
       "1   1.482053  0.842258    1.572585  15.0\n",
       "2   1.482053  0.539692    1.182885  18.0\n",
       "3   1.482053  0.536160    1.182885  16.0\n",
       "4   1.482053  0.554997    0.923085  17.0"
      ]
     },
     "execution_count": 181,
     "metadata": {},
     "output_type": "execute_result"
    }
   ],
   "source": [
    "for i in range(len(x_cols)):\n",
    "    mean = data1[x_cols[i]].mean()\n",
    "    stdDev = data1[x_cols[i]].std()\n",
    "    \n",
    "    ## Using Lamda Functions to apply the standardization on predictor Columns\n",
    "    data1[x_cols[i]] = data1[x_cols[i]].apply(lambda x : (x - mean)/stdDev) \n",
    "    \n",
    "data1.head()"
   ]
  },
  {
   "cell_type": "markdown",
   "metadata": {},
   "source": [
    "#### Splitting Test and Train"
   ]
  },
  {
   "cell_type": "code",
   "execution_count": 166,
   "metadata": {
    "ExecuteTime": {
     "end_time": "2020-10-11T15:12:32.316530Z",
     "start_time": "2020-10-11T15:12:32.284583Z"
    }
   },
   "outputs": [],
   "source": [
    "def mySplit(data,random,index=0):\n",
    "    length = len(data)\n",
    "    # Generate Random Index to be chosen as Test dataset\n",
    "    if(random == True):\n",
    "        rand_index = np.random.randint(length)\n",
    "    else : \n",
    "        rand_index = index                               # Use it to check for a specific index\n",
    "    testX = data.loc[rand_index,x_cols]\n",
    "    testY = data.loc[rand_index,y_cols]\n",
    "    trainX = data.drop(rand_index,inplace=False)[x_cols]\n",
    "    trainY = data.drop(rand_index,inplace= False)[y_cols]    \n",
    "    return trainX,trainY,testX,testY"
   ]
  },
  {
   "cell_type": "markdown",
   "metadata": {},
   "source": [
    "#### Algorithm Design"
   ]
  },
  {
   "cell_type": "code",
   "execution_count": 163,
   "metadata": {
    "ExecuteTime": {
     "end_time": "2020-10-11T15:09:38.386567Z",
     "start_time": "2020-10-11T15:09:38.370573Z"
    }
   },
   "outputs": [],
   "source": [
    "def kNN_regression(trainX,trainY,testX,testY,k):\n",
    "    distance = []\n",
    "    vector2 = np.array(testX)\n",
    "    \n",
    "    # Use norm function to calculate the Euclidean Distance of Test Set with Training Set\n",
    "    for i in range(len(trainX)):\n",
    "        vector1 = np.array(trainX.iloc[i,:])\n",
    "        distance.append(np.linalg.norm(vector1 - vector2))\n",
    "    unsorted_dist = distance.copy()\n",
    "    \n",
    "    # Sort the distances in ascending order\n",
    "    distance.sort()\n",
    "    \n",
    "    # Pick out the k nearest neighbours around Test dataset\n",
    "    kNNIndex=[]\n",
    "    for i in range(k):\n",
    "        kNNIndex.append(unsorted_dist.index(distance[i]))\n",
    "        unsorted_dist[kNNIndex[i]] = -1\n",
    "    \n",
    "    # Find the mean of the MPG values corresponding to the KNN \n",
    "    prediction = np.mean(trainY.loc[kNNIndex])\n",
    "    \n",
    "    # Calculate the Mean Squared Error of predicted and actual value\n",
    "    error = round(mse(testY,prediction),2)\n",
    "    return (error, prediction)"
   ]
  },
  {
   "cell_type": "markdown",
   "metadata": {},
   "source": [
    "#### Performance Measure"
   ]
  },
  {
   "cell_type": "code",
   "execution_count": 185,
   "metadata": {
    "ExecuteTime": {
     "end_time": "2020-10-11T15:35:27.442600Z",
     "start_time": "2020-10-11T15:35:04.809041Z"
    }
   },
   "outputs": [
    {
     "name": "stdout",
     "output_type": "stream",
     "text": [
      "Minimum Value of K to get the best predicted value of Test Set is : 7\n",
      "Actual Value:  32.0\n",
      "Predicted Value:  MPG    27.483333\n",
      "dtype: float64\n",
      "Mean Squared Error:  20.4\n"
     ]
    },
    {
     "data": {
      "text/plain": [
       "Text(0.5, 1.0, 'MSE vs K')"
      ]
     },
     "execution_count": 185,
     "metadata": {},
     "output_type": "execute_result"
    },
    {
     "data": {
      "image/png": "[encoded data removed]",
      "text/plain": [
       "<Figure size 432x288 with 1 Axes>"
      ]
     },
     "metadata": {
      "needs_background": "dark"
     },
     "output_type": "display_data"
    }
   ],
   "source": [
    "# Plot the MSE values for different values of K for the chosen test set\n",
    "error = []\n",
    "minimum_MSE,minimum_K = 9999,0\n",
    "trainX,trainY,testX,testY = mySplit(data1,False,152)                    # Select 1 for pickign a random test set\n",
    "for i in range(1,int(len(data1)/2)):\n",
    "    (calculated_MSE, prediction) = kNN_regression(trainX,trainY,testX,testY,i)\n",
    "    error.append(calculated_MSE)    \n",
    "    if(calculated_MSE < minimum_MSE):\n",
    "        minimum_MSE = calculated_MSE\n",
    "        minimum_K = i\n",
    "        bestPrediction = prediction\n",
    "print(\"Minimum Value of K to get the best predicted value of Test Set is :\",minimum_K)\n",
    "print(\"Actual Value: \",testY[0])\n",
    "print(\"Predicted Value: \",bestPrediction)\n",
    "print(\"Mean Squared Error: \",minimum_MSE)\n",
    "        \n",
    "plt.plot(error)\n",
    "plt.xlabel(\"K neighbours\")\n",
    "plt.ylabel(\"MSE in prediction\")\n",
    "plt.title(\"MSE vs K\")"
   ]
  },
  {
   "cell_type": "code",
   "execution_count": 177,
   "metadata": {
    "ExecuteTime": {
     "end_time": "2020-10-11T15:22:21.556340Z",
     "start_time": "2020-10-11T15:21:40.399012Z"
    }
   },
   "outputs": [
    {
     "data": {
      "text/plain": [
       "Text(0.5, 1.0, 'MSE vs chosen Test Set value (for k= 10)')"
      ]
     },
     "execution_count": 177,
     "metadata": {},
     "output_type": "execute_result"
    },
    {
     "data": {
      "image/png": "[encoded data removed]",
      "text/plain": [
       "<Figure size 432x288 with 1 Axes>"
      ]
     },
     "metadata": {
      "needs_background": "dark"
     },
     "output_type": "display_data"
    }
   ],
   "source": [
    "# Plot the Mean Squared Error across individual Train Set, keeping a fixed value of K\n",
    "# For this Sort each training set by \"MPG\" value to make sense of the graph\n",
    "k=10\n",
    "error = []\n",
    "data2 = data1.copy(deep= True)\n",
    "sorted_data = data2.sort_values(by=[\"MPG\"],inplace=False).reset_index(drop=True)\n",
    "for i in range(len(sorted_data)-2):\n",
    "    trainX,trainY,testX,testY = mySplit(sorted_data,False,i)\n",
    "    (calculated_MSE, prediction) = kNN_regression(trainX,trainY,testX,testY,k)\n",
    "    error.append(calculated_MSE)\n",
    "    \n",
    "# From the graph the test set chosen close to mean MPG will have a lower MSE \n",
    "# compared to test set which are farther away from mean\n",
    "\n",
    "plt.plot(error)\n",
    "plt.xlabel(\"Indices chosen as Test Set\")\n",
    "plt.ylabel(\"MSE in predictions\")\n",
    "plt.title(\"MSE vs chosen Test Set value (for k= %d)\"%k)"
   ]
  },
  {
   "cell_type": "markdown",
   "metadata": {},
   "source": [
    "### kNN Regression Algorithm ( using Inbuilt Function )"
   ]
  },
  {
   "cell_type": "markdown",
   "metadata": {},
   "source": [
    "#### Data Preprocessing"
   ]
  },
  {
   "cell_type": "code",
   "execution_count": 178,
   "metadata": {
    "ExecuteTime": {
     "end_time": "2020-10-11T15:32:30.048788Z",
     "start_time": "2020-10-11T15:32:30.032830Z"
    }
   },
   "outputs": [
    {
     "name": "stdout",
     "output_type": "stream",
     "text": [
      "Total Number of Null Values:\n",
      " Cylinders     0\n",
      "Weight        0\n",
      "Horsepower    0\n",
      "MPG           0\n",
      "dtype: int64\n"
     ]
    }
   ],
   "source": [
    "data2 = dataset.copy()\n",
    "print(\"Total Number of Null Values:\\n\",data2.isna().sum())"
   ]
  },
  {
   "cell_type": "code",
   "execution_count": 179,
   "metadata": {
    "ExecuteTime": {
     "end_time": "2020-10-11T15:32:34.053404Z",
     "start_time": "2020-10-11T15:32:33.877517Z"
    }
   },
   "outputs": [
    {
     "name": "stdout",
     "output_type": "stream",
     "text": [
      "Length of Dataset after removing zero/nulls : 392\n"
     ]
    }
   ],
   "source": [
    "data2.drop(dataset.index[data2[columns].apply(lambda x : any(x == 0),axis=1)],\n",
    "             inplace= True)\n",
    "print(\"Length of Dataset after removing zero/nulls :\", len(data2))"
   ]
  },
  {
   "cell_type": "code",
   "execution_count": 180,
   "metadata": {
    "ExecuteTime": {
     "end_time": "2020-10-11T15:32:38.798981Z",
     "start_time": "2020-10-11T15:32:38.766994Z"
    }
   },
   "outputs": [
    {
     "data": {
      "text/html": [
       "<div>\n",
       "<style scoped>\n",
       "    .dataframe tbody tr th:only-of-type {\n",
       "        vertical-align: middle;\n",
       "    }\n",
       "\n",
       "    .dataframe tbody tr th {\n",
       "        vertical-align: top;\n",
       "    }\n",
       "\n",
       "    .dataframe thead th {\n",
       "        text-align: right;\n",
       "    }\n",
       "</style>\n",
       "<table border=\"1\" class=\"dataframe\">\n",
       "  <thead>\n",
       "    <tr style=\"text-align: right;\">\n",
       "      <th></th>\n",
       "      <th>Cylinders</th>\n",
       "      <th>Weight</th>\n",
       "      <th>Horsepower</th>\n",
       "      <th>MPG</th>\n",
       "    </tr>\n",
       "  </thead>\n",
       "  <tbody>\n",
       "    <tr>\n",
       "      <td>0</td>\n",
       "      <td>1.483947</td>\n",
       "      <td>0.620540</td>\n",
       "      <td>0.664133</td>\n",
       "      <td>18.0</td>\n",
       "    </tr>\n",
       "    <tr>\n",
       "      <td>1</td>\n",
       "      <td>1.483947</td>\n",
       "      <td>0.843334</td>\n",
       "      <td>1.574594</td>\n",
       "      <td>15.0</td>\n",
       "    </tr>\n",
       "    <tr>\n",
       "      <td>2</td>\n",
       "      <td>1.483947</td>\n",
       "      <td>0.540382</td>\n",
       "      <td>1.184397</td>\n",
       "      <td>18.0</td>\n",
       "    </tr>\n",
       "    <tr>\n",
       "      <td>3</td>\n",
       "      <td>1.483947</td>\n",
       "      <td>0.536845</td>\n",
       "      <td>1.184397</td>\n",
       "      <td>16.0</td>\n",
       "    </tr>\n",
       "    <tr>\n",
       "      <td>4</td>\n",
       "      <td>1.483947</td>\n",
       "      <td>0.555706</td>\n",
       "      <td>0.924265</td>\n",
       "      <td>17.0</td>\n",
       "    </tr>\n",
       "  </tbody>\n",
       "</table>\n",
       "</div>"
      ],
      "text/plain": [
       "   Cylinders    Weight  Horsepower   MPG\n",
       "0   1.483947  0.620540    0.664133  18.0\n",
       "1   1.483947  0.843334    1.574594  15.0\n",
       "2   1.483947  0.540382    1.184397  18.0\n",
       "3   1.483947  0.536845    1.184397  16.0\n",
       "4   1.483947  0.555706    0.924265  17.0"
      ]
     },
     "execution_count": 180,
     "metadata": {},
     "output_type": "execute_result"
    }
   ],
   "source": [
    "from sklearn.preprocessing import StandardScaler\n",
    "standardize = StandardScaler()\n",
    "data2[x_cols] = standardize.fit_transform(data2[x_cols])\n",
    "data2.head()"
   ]
  },
  {
   "cell_type": "code",
   "execution_count": 182,
   "metadata": {
    "ExecuteTime": {
     "end_time": "2020-10-11T15:33:37.602486Z",
     "start_time": "2020-10-11T15:33:37.354562Z"
    }
   },
   "outputs": [
    {
     "name": "stdout",
     "output_type": "stream",
     "text": [
      "Test Set :\n",
      "      Cylinders    Weight  Horsepower\n",
      "152  -0.864014 -1.148842   -1.130778\n",
      "\n",
      "Actual MPG Value : 32.0\n"
     ]
    }
   ],
   "source": [
    "from sklearn.model_selection import train_test_split\n",
    "\n",
    "Xtrain,Xtest,Ytrain,Ytest = train_test_split(data2[x_cols],data2[y_cols],test_size=1/len(data2))\n",
    "print(\"Test Set :\\n\" , Xtest)\n",
    "print(\"\\nActual MPG Value :\", Ytest.iloc[0,0])"
   ]
  },
  {
   "cell_type": "markdown",
   "metadata": {},
   "source": [
    "#### Algorithm Design"
   ]
  },
  {
   "cell_type": "code",
   "execution_count": 183,
   "metadata": {
    "ExecuteTime": {
     "end_time": "2020-10-11T15:33:50.993420Z",
     "start_time": "2020-10-11T15:33:49.057932Z"
    }
   },
   "outputs": [],
   "source": [
    "from sklearn.neighbors import KNeighborsRegressor as kNN_regressor\n",
    "\n",
    "error = []\n",
    "for i in range(1, int(len(data2)/2)):\n",
    "    kNN = kNN_regressor(n_neighbors= i)\n",
    "    kNN.fit(Xtrain,Ytrain)\n",
    "    prediction = kNN.predict(Xtest)\n",
    "    error.append(round(mse(Ytest,prediction),2))"
   ]
  },
  {
   "cell_type": "markdown",
   "metadata": {},
   "source": [
    "#### Performance Measure"
   ]
  },
  {
   "cell_type": "code",
   "execution_count": 184,
   "metadata": {
    "ExecuteTime": {
     "end_time": "2020-10-11T15:34:17.001290Z",
     "start_time": "2020-10-11T15:34:16.745425Z"
    }
   },
   "outputs": [
    {
     "data": {
      "text/plain": [
       "Text(0.5, 1.0, 'MSE vs K')"
      ]
     },
     "execution_count": 184,
     "metadata": {},
     "output_type": "execute_result"
    },
    {
     "data": {
      "image/png": "[encoded data removed]",
      "text/plain": [
       "<Figure size 432x288 with 1 Axes>"
      ]
     },
     "metadata": {
      "needs_background": "dark"
     },
     "output_type": "display_data"
    }
   ],
   "source": [
    "plt.plot(error)\n",
    "plt.xlabel(\"K neighbours\")\n",
    "plt.ylabel(\"MSE in prediction\")\n",
    "plt.title(\"MSE vs K\")"
   ]
  },
  {
   "cell_type": "code",
   "execution_count": null,
   "metadata": {},
   "outputs": [],
   "source": []
  }
 ],
 "metadata": {
  "hide_input": false,
  "kernelspec": {
   "display_name": "Python 3",
   "language": "python",
   "name": "python3"
  },
  "language_info": {
   "codemirror_mode": {
    "name": "ipython",
    "version": 3
   },
   "file_extension": ".py",
   "mimetype": "text/x-python",
   "name": "python",
   "nbconvert_exporter": "python",
   "pygments_lexer": "ipython3",
   "version": "3.7.4"
  },
  "toc": {
   "base_numbering": 1,
   "nav_menu": {},
   "number_sections": true,
   "sideBar": true,
   "skip_h1_title": false,
   "title_cell": "Table of Contents",
   "title_sidebar": "Contents",
   "toc_cell": false,
   "toc_position": {
    "height": "calc(100% - 180px)",
    "left": "10px",
    "top": "150px",
    "width": "307.2px"
   },
   "toc_section_display": true,
   "toc_window_display": true
  },
  "varInspector": {
   "cols": {
    "lenName": 16,
    "lenType": 16,
    "lenVar": 40
   },
   "kernels_config": {
    "python": {
     "delete_cmd_postfix": "",
     "delete_cmd_prefix": "del ",
     "library": "var_list.py",
     "varRefreshCmd": "print(var_dic_list())"
    },
    "r": {
     "delete_cmd_postfix": ") ",
     "delete_cmd_prefix": "rm(",
     "library": "var_list.r",
     "varRefreshCmd": "cat(var_dic_list()) "
    }
   },
   "oldHeight": 122.4,
   "position": {
    "height": "144.4px",
    "left": "1269px",
    "right": "20px",
    "top": "101px",
    "width": "350px"
   },
   "types_to_exclude": [
    "module",
    "function",
    "builtin_function_or_method",
    "instance",
    "_Feature"
   ],
   "varInspector_section_display": "block",
   "window_display": false
  }
 },
 "nbformat": 4,
 "nbformat_minor": 2
}
